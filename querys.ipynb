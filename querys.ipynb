{
 "cells": [
  {
   "cell_type": "code",
   "execution_count": 0,
   "metadata": {
    "application/vnd.databricks.v1+cell": {
     "cellMetadata": {
      "byteLimit": 2048000,
      "rowLimit": 10000
     },
     "inputWidgets": {},
     "nuid": "131f751f-d4be-4433-a55f-cb21506667fa",
     "showTitle": false,
     "title": ""
    }
   },
   "outputs": [],
   "source": [
    "from pyspark.sql import SparkSession"
   ]
  },
  {
   "cell_type": "code",
   "execution_count": 0,
   "metadata": {
    "application/vnd.databricks.v1+cell": {
     "cellMetadata": {
      "byteLimit": 2048000,
      "rowLimit": 10000
     },
     "inputWidgets": {},
     "nuid": "41d09730-a823-46e8-9165-8004686179a3",
     "showTitle": false,
     "title": ""
    }
   },
   "outputs": [],
   "source": [
    "spark = SparkSession.builder \\\n",
    "    .appName(\"Vendedores Japão\") \\\n",
    "    .getOrCreate()"
   ]
  },
  {
   "cell_type": "code",
   "execution_count": 0,
   "metadata": {
    "application/vnd.databricks.v1+cell": {
     "cellMetadata": {
      "byteLimit": 2048000,
      "implicitDf": true,
      "rowLimit": 10000
     },
     "inputWidgets": {},
     "nuid": "4d9a2d7e-2417-43a4-adc4-a56721b8efb3",
     "showTitle": true,
     "title": "Qual país possui a maior quantidade de itens cancelados?"
    }
   },
   "outputs": [],
   "source": [
    "cancelados = \"\"\"\n",
    "SELECT \n",
    "    c.country, \n",
    "    SUM(od.quantity_Ordered) AS total_cancelled_items\n",
    "FROM hive_metastore. default.orders o\n",
    "JOIN hive_metastore. default.orderdetails od ON o.order_Number = od.order_Number\n",
    "JOIN hive_metastore. default.customers c ON o.customer_Number = c.customer_Number\n",
    "WHERE \n",
    "    o.status = 'Cancelled'\n",
    "GROUP BY \n",
    "    c.country\n",
    "ORDER BY \n",
    "    total_cancelled_items DESC\n",
    "LIMIT 1;\n",
    "\"\"\""
   ]
  },
  {
   "cell_type": "code",
   "execution_count": 0,
   "metadata": {
    "application/vnd.databricks.v1+cell": {
     "cellMetadata": {
      "byteLimit": 2048000,
      "rowLimit": 10000
     },
     "inputWidgets": {},
     "nuid": "f92e577d-c4f8-4dd5-bc2d-17875dd9c285",
     "showTitle": false,
     "title": ""
    }
   },
   "outputs": [],
   "source": [
    "cancelados_df = spark.sql(cancelados)"
   ]
  },
  {
   "cell_type": "code",
   "execution_count": 0,
   "metadata": {
    "application/vnd.databricks.v1+cell": {
     "cellMetadata": {
      "byteLimit": 2048000,
      "rowLimit": 10000
     },
     "inputWidgets": {},
     "nuid": "547d9464-6667-481d-855d-d415f7cd71be",
     "showTitle": false,
     "title": ""
    }
   },
   "outputs": [],
   "source": [
    "cancelados_output_path = \"/mnt/delta/itens_cancelados_pais\"\n",
    "cancelados_df.write.format(\"delta\").mode(\"overwrite\").save(cancelados_output_path)"
   ]
  },
  {
   "cell_type": "code",
   "execution_count": 0,
   "metadata": {
    "application/vnd.databricks.v1+cell": {
     "cellMetadata": {
      "byteLimit": 2048000,
      "rowLimit": 10000
     },
     "inputWidgets": {},
     "nuid": "2631600c-a44a-49be-8378-a3645d90577a",
     "showTitle": false,
     "title": ""
    }
   },
   "outputs": [],
   "source": [
    "#############################################################################################################################"
   ]
  },
  {
   "cell_type": "code",
   "execution_count": 0,
   "metadata": {
    "application/vnd.databricks.v1+cell": {
     "cellMetadata": {
      "byteLimit": 2048000,
      "implicitDf": true,
      "rowLimit": 10000
     },
     "inputWidgets": {},
     "nuid": "7b485dea-c45f-4a4f-9972-406ebdd15eb3",
     "showTitle": true,
     "title": "2 - Qual o faturamento da linha de produto mais vendido, considere os pedidos com status &#39;Shipped&#39;, cujo pedido foi realizado no ano de 2005?"
    }
   },
   "outputs": [],
   "source": [
    "faturameto = \"\"\"\n",
    "SELECT \n",
    "    pl.product_line, \n",
    "    SUM(od.quantity_Ordered * od.price_Each) AS total_revenue\n",
    "FROM hive_metastore.default.orders  o\n",
    "JOIN hive_metastore.default.orderdetails  od ON o.order_Number = od.order_Number\n",
    "JOIN hive_metastore.default.products p ON od.product_Code = p.product_Code\n",
    "JOIN product_lines pl ON p.product_Line = pl.product_Line\n",
    "WHERE \n",
    "    o.status = 'Shipped'\n",
    "    AND YEAR(o.order_Date) = 2005\n",
    "GROUP BY \n",
    "    pl.product_line\n",
    "ORDER BY \n",
    "    total_revenue DESC\n",
    "LIMIT 1;\n",
    "\"\"\""
   ]
  },
  {
   "cell_type": "code",
   "execution_count": 0,
   "metadata": {
    "application/vnd.databricks.v1+cell": {
     "cellMetadata": {
      "byteLimit": 2048000,
      "rowLimit": 10000
     },
     "inputWidgets": {},
     "nuid": "651f6886-dd4a-4010-8a3f-70c58a79777f",
     "showTitle": false,
     "title": ""
    }
   },
   "outputs": [],
   "source": [
    "faturamento_df = spark.sql(faturameto)"
   ]
  },
  {
   "cell_type": "code",
   "execution_count": 0,
   "metadata": {
    "application/vnd.databricks.v1+cell": {
     "cellMetadata": {
      "byteLimit": 2048000,
      "rowLimit": 10000
     },
     "inputWidgets": {},
     "nuid": "093ae80c-dcf2-4aac-9613-d17a6ac7f5e1",
     "showTitle": false,
     "title": ""
    }
   },
   "outputs": [],
   "source": [
    "faturamento_output_path = \"/mnt/delta/faturamento_linha_produto\"\n",
    "faturamento_df.write.format(\"delta\").mode(\"overwrite\").save(faturamento_output_path)"
   ]
  },
  {
   "cell_type": "code",
   "execution_count": 0,
   "metadata": {
    "application/vnd.databricks.v1+cell": {
     "cellMetadata": {
      "byteLimit": 2048000,
      "rowLimit": 10000
     },
     "inputWidgets": {},
     "nuid": "f46d548b-30e1-4d43-8b2b-7e1c31a71ca6",
     "showTitle": false,
     "title": ""
    }
   },
   "outputs": [],
   "source": [
    "##################################################################################################################################################################"
   ]
  },
  {
   "cell_type": "code",
   "execution_count": 0,
   "metadata": {
    "application/vnd.databricks.v1+cell": {
     "cellMetadata": {
      "byteLimit": 2048000,
      "implicitDf": true,
      "rowLimit": 10000
     },
     "inputWidgets": {},
     "nuid": "d393b9ab-ed9d-4400-a0cc-8e51af60bf29",
     "showTitle": true,
     "title": "Traga na consulta o Nome, sobrenome e e-mail dos vendedores do Japão, lembrando que o local-part do e-mail deve estar mascarado."
    }
   },
   "outputs": [],
   "source": [
    "vendedores_japao = \"\"\"\n",
    "SELECT \n",
    "    e.first_Name AS nome, \n",
    "    e.last_Name AS sobrenome, \n",
    "    CONCAT('*****@', SUBSTRING_INDEX(e.email, '@', -1)) AS email_mascarado\n",
    "FROM \n",
    "    hive_metastore.default.employees e\n",
    "WHERE \n",
    "    e.office_Code IN (\n",
    "        SELECT office_Code \n",
    "        FROM offices \n",
    "        WHERE city = 'Tokyo'\n",
    "    )\n",
    "ORDER BY \n",
    "    e.last_Name, e.first_Name;\n",
    "\"\"\""
   ]
  },
  {
   "cell_type": "code",
   "execution_count": 0,
   "metadata": {
    "application/vnd.databricks.v1+cell": {
     "cellMetadata": {
      "byteLimit": 2048000,
      "rowLimit": 10000
     },
     "inputWidgets": {},
     "nuid": "c028be11-ff7f-4dd4-b070-ea19209322de",
     "showTitle": false,
     "title": ""
    }
   },
   "outputs": [],
   "source": [
    "vendedores_df = spark.sql(vendedores_japao)"
   ]
  },
  {
   "cell_type": "code",
   "execution_count": 0,
   "metadata": {
    "application/vnd.databricks.v1+cell": {
     "cellMetadata": {
      "byteLimit": 2048000,
      "rowLimit": 10000
     },
     "inputWidgets": {},
     "nuid": "a7e609ff-f73a-4285-96fc-35766c3239e0",
     "showTitle": false,
     "title": ""
    }
   },
   "outputs": [],
   "source": [
    "vendedores_output_path = \"/mnt/delta/vendedores_japao\"\n",
    "vendedores_df.write.format(\"delta\").mode(\"overwrite\").save(vendedores_output_path)\n"
   ]
  },
  {
   "cell_type": "code",
   "execution_count": 0,
   "metadata": {
    "application/vnd.databricks.v1+cell": {
     "cellMetadata": {
      "byteLimit": 2048000,
      "rowLimit": 10000
     },
     "inputWidgets": {},
     "nuid": "e6f1f187-8b0c-4b31-ae62-facc6dd581d7",
     "showTitle": false,
     "title": ""
    }
   },
   "outputs": [
    {
     "output_type": "display_data",
     "data": {
      "text/html": [
       "<style scoped>\n",
       "  .ansiout {\n",
       "    display: block;\n",
       "    unicode-bidi: embed;\n",
       "    white-space: pre-wrap;\n",
       "    word-wrap: break-word;\n",
       "    word-break: break-all;\n",
       "    font-family: \"Menlo\", \"Monaco\", \"Consolas\", \"Ubuntu Mono\", \"Source Code Pro\", monospace;\n",
       "    font-size: 13px;\n",
       "    color: #555;\n",
       "    margin-left: 4px;\n",
       "    line-height: 19px;\n",
       "  }\n",
       "</style>"
      ]
     },
     "metadata": {
      "application/vnd.databricks.v1+output": {
       "arguments": {},
       "data": "",
       "errorSummary": "The spark context has stopped and the driver is restarting. Your notebook will be automatically reattached.",
       "errorTraceType": "html",
       "metadata": {},
       "type": "ipynbError"
      }
     },
     "output_type": "display_data"
    }
   ],
   "source": [
    "spark.stop()"
   ]
  }
 ],
 "metadata": {
  "application/vnd.databricks.v1+notebook": {
   "dashboards": [],
   "environmentMetadata": null,
   "language": "python",
   "notebookMetadata": {
    "mostRecentlyExecutedCommandWithImplicitDF": {
     "commandId": -1,
     "dataframes": [
      "_sqldf"
     ]
    },
    "pythonIndentUnit": 4
   },
   "notebookName": "querys",
   "widgets": {}
  }
 },
 "nbformat": 4,
 "nbformat_minor": 0
}
